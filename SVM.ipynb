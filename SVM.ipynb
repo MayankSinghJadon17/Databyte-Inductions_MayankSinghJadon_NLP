{
 "cells": [
  {
   "cell_type": "code",
   "execution_count": 11,
   "id": "24508925-09b9-480b-beb9-d30e733f899f",
   "metadata": {},
   "outputs": [],
   "source": [
    "import numpy as np"
   ]
  },
  {
   "cell_type": "code",
   "execution_count": 2,
   "id": "f03b8d0b-b411-4deb-8cca-d8080cb6b6b0",
   "metadata": {},
   "outputs": [],
   "source": [
    "class SVM_classifier():\n",
    "\n",
    "\n",
    "  # initiating the hyperparameters\n",
    "  def __init__(self, learning_rate, no_of_iterations, lambda_parameter):\n",
    "\n",
    "    self.learning_rate = learning_rate\n",
    "    self.no_of_iterations = no_of_iterations\n",
    "    self.lambda_parameter = lambda_parameter\n",
    "\n",
    "\n",
    "  \n",
    "  # fitting the dataset to SVM Classifier\n",
    "  def fit(self, X, Y):\n",
    "\n",
    "    # m  --> number of Data points --> number of rows\n",
    "    # n  --> number of input features --> number of columns\n",
    "    self.m, self.n = X.shape\n",
    "\n",
    "    # initiating the weight value and bias value\n",
    "\n",
    "    self.w = np.zeros(self.n)\n",
    "\n",
    "    self.b = 0\n",
    "\n",
    "    self.X = X\n",
    "\n",
    "    self.Y = Y\n",
    "\n",
    "    # implementing Gradient Descent algorithm for Optimization\n",
    "\n",
    "    for i in range(self.no_of_iterations):\n",
    "      self.update_weights()\n",
    "\n",
    "\n",
    "\n",
    "  # function for updating the weight and bias value\n",
    "  def update_weights(self):\n",
    "\n",
    "    # label encoding\n",
    "    y_label = np.where(self.Y <= 0, -1, 1)\n",
    "\n",
    "\n",
    "\n",
    "    # gradients ( dw, db)\n",
    "    for index, x_i in enumerate(self.X):\n",
    "\n",
    "      condition = y_label[index] * (np.dot(x_i, self.w) - self.b) >= 1\n",
    "\n",
    "      if (condition == True):\n",
    "\n",
    "        dw = 2 * self.lambda_parameter * self.w\n",
    "        db = 0\n",
    "\n",
    "      else:\n",
    "\n",
    "        dw = 2 * self.lambda_parameter * self.w - np.dot(x_i, y_label[index])\n",
    "        db = y_label[index]\n",
    "\n",
    "\n",
    "      self.w = self.w - self.learning_rate * dw\n",
    "\n",
    "      self.b = self.b - self.learning_rate * db\n",
    "\n",
    "\n",
    "\n",
    "  # predict the label for a given input value\n",
    "  def predict(self, X):\n",
    "\n",
    "    output = np.dot(X, self.w) - self.b\n",
    "    \n",
    "    predicted_labels = np.sign(output)\n",
    "\n",
    "    y_hat = np.where(predicted_labels <= -1, 0, 1)\n",
    "\n",
    "    return y_hat"
   ]
  },
  {
   "cell_type": "code",
   "execution_count": 3,
   "id": "41c8fa3e-ed58-4557-b1da-1d83ed817e89",
   "metadata": {},
   "outputs": [
    {
     "name": "stderr",
     "output_type": "stream",
     "text": [
      "C:\\Users\\mayan\\AppData\\Local\\Temp\\ipykernel_18920\\637669700.py:10: SettingWithCopyWarning: \n",
      "A value is trying to be set on a copy of a slice from a DataFrame\n",
      "\n",
      "See the caveats in the documentation: https://pandas.pydata.org/pandas-docs/stable/user_guide/indexing.html#returning-a-view-versus-a-copy\n",
      "  X.drop(X.columns[[2,4,5,11,18,20,44,48,49,50,51,52,53]],axis= 1,inplace =True) #Droppin the column containing stopwords and special characters.\n"
     ]
    }
   ],
   "source": [
    "import pandas as pd\n",
    "from sklearn.preprocessing import StandardScaler\n",
    "from ucimlrepo import fetch_ucirepo \n",
    "# fetch dataset \n",
    "spambase = fetch_ucirepo(id=94) \n",
    "  \n",
    "# data (as pandas dataframes)  \n",
    "X = spambase.data.features \n",
    "y = spambase.data.targets \n",
    "X.drop(X.columns[[2,4,5,11,18,20,44,48,49,50,51,52,53]],axis= 1,inplace =True) #Droppin the column containing stopwords and special characters.\n",
    "\n"
   ]
  },
  {
   "cell_type": "code",
   "execution_count": 4,
   "id": "ce6e174c-9701-4a82-b1f6-178c6e6a00b0",
   "metadata": {},
   "outputs": [
    {
     "name": "stdout",
     "output_type": "stream",
     "text": [
      "[[-3.42433707e-01  3.30884903e-01 -4.68995838e-02 ... -4.52472762e-02\n",
      "   4.52979198e-02 -8.72413388e-03]\n",
      " [ 3.45359395e-01  5.19091945e-02 -4.68995838e-02 ... -2.44326749e-03\n",
      "   2.50562832e-01  1.22832407e+00]\n",
      " [-1.45921392e-01 -1.65071912e-01 -4.68995838e-02 ...  1.45920848e-01\n",
      "   2.22110599e+00  3.25873251e+00]\n",
      " ...\n",
      " [ 6.40127868e-01 -1.65071912e-01 -4.68995838e-02 ... -1.19382054e-01\n",
      "  -2.36941335e-01 -2.72627750e-01]\n",
      " [ 2.80176333e+00 -1.65071912e-01 -4.68995838e-02 ... -1.27482666e-01\n",
      "  -2.42072958e-01 -3.38603654e-01]\n",
      " [-3.42433707e-01 -1.65071912e-01 -4.68995838e-02 ... -1.24236117e-01\n",
      "  -2.42072958e-01 -4.01280763e-01]]\n"
     ]
    }
   ],
   "source": [
    "scaler = StandardScaler()\n",
    "scaler.fit(X)\n",
    "Standardized = scaler.transform(X)\n",
    "print (Standardized)"
   ]
  },
  {
   "cell_type": "code",
   "execution_count": 5,
   "id": "8682f97a-0418-4693-a7d3-3a53c3d01826",
   "metadata": {},
   "outputs": [],
   "source": [
    "target = spambase.data.targets['Class']"
   ]
  },
  {
   "cell_type": "code",
   "execution_count": 8,
   "id": "bf46f58b-a9d0-4490-a572-953bcd147897",
   "metadata": {},
   "outputs": [
    {
     "data": {
      "text/plain": [
       "(4601,)"
      ]
     },
     "execution_count": 8,
     "metadata": {},
     "output_type": "execute_result"
    }
   ],
   "source": [
    "target.shape"
   ]
  },
  {
   "cell_type": "code",
   "execution_count": 6,
   "id": "504f5296-c9cc-42aa-88e2-b455027e8e2b",
   "metadata": {},
   "outputs": [],
   "source": [
    "features = Standardized"
   ]
  },
  {
   "cell_type": "code",
   "execution_count": 7,
   "id": "5c50f1f1-dfbe-4407-8c40-dd47b65a2239",
   "metadata": {},
   "outputs": [
    {
     "data": {
      "text/plain": [
       "(4601, 44)"
      ]
     },
     "execution_count": 7,
     "metadata": {},
     "output_type": "execute_result"
    }
   ],
   "source": [
    "features.shape"
   ]
  },
  {
   "cell_type": "code",
   "execution_count": 9,
   "id": "c9d2441a-af76-4c61-899f-45e0c9112228",
   "metadata": {},
   "outputs": [],
   "source": [
    "from sklearn.model_selection import train_test_split\n",
    "X_train,X_test,y_train,y_test = train_test_split(features,target,test_size=0.1,random_state=2)"
   ]
  },
  {
   "cell_type": "code",
   "execution_count": 15,
   "id": "92499407-1181-454c-b591-15d7b2cac821",
   "metadata": {},
   "outputs": [],
   "source": [
    "classifier = SVM_classifier(learning_rate=0.001, no_of_iterations=1000, lambda_parameter=0.01)\n",
    "classifier.fit(X_train,y_train)\n",
    "y_pred =classifier.predict(X_test)\n",
    "\n"
   ]
  },
  {
   "cell_type": "code",
   "execution_count": 13,
   "id": "a07817f9-874b-45e0-929d-30efe42329a0",
   "metadata": {},
   "outputs": [],
   "source": [
    "from sklearn import metrics\n",
    "from sklearn.metrics import classification_report"
   ]
  },
  {
   "cell_type": "code",
   "execution_count": 16,
   "id": "aef3500e-2ddb-4412-9516-a941e442ed35",
   "metadata": {},
   "outputs": [
    {
     "data": {
      "text/plain": [
       "array([[260,  11],\n",
       "       [ 33, 157]], dtype=int64)"
      ]
     },
     "execution_count": 16,
     "metadata": {},
     "output_type": "execute_result"
    }
   ],
   "source": [
    "metrics.confusion_matrix(y_test,y_pred)"
   ]
  },
  {
   "cell_type": "code",
   "execution_count": 17,
   "id": "f9c38b02-8ca3-41fd-851a-3e6956768247",
   "metadata": {},
   "outputs": [
    {
     "data": {
      "text/plain": [
       "0.8770949720670392"
      ]
     },
     "execution_count": 17,
     "metadata": {},
     "output_type": "execute_result"
    }
   ],
   "source": [
    "metrics.f1_score(y_test,y_pred)"
   ]
  },
  {
   "cell_type": "code",
   "execution_count": 18,
   "id": "788d6ed6-350e-41e2-a3c6-7d1abed29166",
   "metadata": {},
   "outputs": [
    {
     "data": {
      "text/plain": [
       "0.8263157894736842"
      ]
     },
     "execution_count": 18,
     "metadata": {},
     "output_type": "execute_result"
    }
   ],
   "source": [
    "metrics.recall_score(y_test,y_pred)"
   ]
  },
  {
   "cell_type": "code",
   "execution_count": 19,
   "id": "6a9c8e7f-2903-45d6-8dbb-aefae15d7a50",
   "metadata": {},
   "outputs": [
    {
     "data": {
      "text/plain": [
       "0.9345238095238095"
      ]
     },
     "execution_count": 19,
     "metadata": {},
     "output_type": "execute_result"
    }
   ],
   "source": [
    "metrics.precision_score(y_test,y_pred)"
   ]
  },
  {
   "cell_type": "code",
   "execution_count": 20,
   "id": "a5e193e9-7f0a-45ce-b4e3-ead7bfe78a2e",
   "metadata": {},
   "outputs": [
    {
     "data": {
      "text/plain": [
       "0.9045553145336226"
      ]
     },
     "execution_count": 20,
     "metadata": {},
     "output_type": "execute_result"
    }
   ],
   "source": [
    "metrics.accuracy_score(y_test,y_pred)"
   ]
  }
 ],
 "metadata": {
  "kernelspec": {
   "display_name": "Python 3 (ipykernel)",
   "language": "python",
   "name": "python3"
  },
  "language_info": {
   "codemirror_mode": {
    "name": "ipython",
    "version": 3
   },
   "file_extension": ".py",
   "mimetype": "text/x-python",
   "name": "python",
   "nbconvert_exporter": "python",
   "pygments_lexer": "ipython3",
   "version": "3.11.7"
  }
 },
 "nbformat": 4,
 "nbformat_minor": 5
}
